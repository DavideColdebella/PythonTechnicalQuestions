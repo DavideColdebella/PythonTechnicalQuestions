{
 "cells": [
  {
   "cell_type": "markdown",
   "id": "0597ea67-7830-4a8c-8356-22164b3170ba",
   "metadata": {},
   "source": [
    "# Closure example\n",
    "\n",
    "Objects are data with methods attached, closures are functions with data attached.\n",
    "See: https://stackoverflow.com/questions/13857/can-you-explain-closures-as-they-relate-to-python\n",
    "\n",
    "Closures are functions which reference variables from a containing scope, even after flow-of-control has left that scope."
   ]
  },
  {
   "cell_type": "code",
   "execution_count": null,
   "id": "b39f2456-177e-471a-8725-da664a577d84",
   "metadata": {},
   "outputs": [],
   "source": [
    "def closure_example(txt: str):\n",
    "    def inside_function():\n",
    "        print(txt)\n",
    "    return inside_function"
   ]
  },
  {
   "cell_type": "code",
   "execution_count": null,
   "id": "40d59746-166a-402f-9038-5b8bf1168ccc",
   "metadata": {},
   "outputs": [],
   "source": [
    "f1 = closure_example(\"A\")\n",
    "f2 = closure_example(\"B\")\n",
    "\n",
    "f1()\n",
    "f2()"
   ]
  },
  {
   "cell_type": "code",
   "execution_count": null,
   "id": "5cc64470-d803-408a-8501-cf936a25d527",
   "metadata": {},
   "outputs": [],
   "source": [
    "# closure data can be accessed by\n",
    "print(f1.__closure__)\n",
    "print(type(f1.__closure__[0]))\n",
    "print(f1.__closure__[0].cell_contents)"
   ]
  }
 ],
 "metadata": {
  "kernelspec": {
   "display_name": "Python 3 (ipykernel)",
   "language": "python",
   "name": "python3"
  },
  "language_info": {
   "codemirror_mode": {
    "name": "ipython",
    "version": 3
   },
   "file_extension": ".py",
   "mimetype": "text/x-python",
   "name": "python",
   "nbconvert_exporter": "python",
   "pygments_lexer": "ipython3",
   "version": "3.8.16"
  }
 },
 "nbformat": 4,
 "nbformat_minor": 5
}
