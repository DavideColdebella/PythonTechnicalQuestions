{
 "cells": [
  {
   "cell_type": "markdown",
   "id": "deac5c5e-6276-4a07-86d4-d6ab6a2fbb18",
   "metadata": {},
   "source": [
    "# Method Resolution Order (MRO)\n",
    "\n",
    "See https://stackoverflow.com/questions/2010692/what-does-mro-do\n",
    "Docs https://docs.python.org/3/library/stdtypes.html#class.__mro__"
   ]
  },
  {
   "cell_type": "markdown",
   "id": "50b1d590-f358-4ade-8d49-da5680df6e57",
   "metadata": {},
   "source": [
    "##### Erroring linear inheritance"
   ]
  },
  {
   "cell_type": "code",
   "execution_count": 1,
   "id": "ed3a3c01-ed84-4718-8af9-cc998b754817",
   "metadata": {},
   "outputs": [
    {
     "name": "stdout",
     "output_type": "stream",
     "text": [
      "(<class '__main__.A'>, <class 'object'>)\n",
      "(<class '__main__.B'>, <class '__main__.A'>, <class 'object'>)\n",
      "(<class '__main__.C'>, <class '__main__.B'>, <class '__main__.A'>, <class 'object'>)\n"
     ]
    },
    {
     "ename": "AttributeError",
     "evalue": "'C' object has no attribute 'name'",
     "output_type": "error",
     "traceback": [
      "\u001b[1;31m---------------------------------------------------------------------------\u001b[0m",
      "\u001b[1;31mAttributeError\u001b[0m                            Traceback (most recent call last)",
      "Cell \u001b[1;32mIn[1], line 19\u001b[0m\n\u001b[0;32m     16\u001b[0m \u001b[38;5;28mprint\u001b[39m(C\u001b[38;5;241m.\u001b[39m\u001b[38;5;18m__mro__\u001b[39m)\n\u001b[0;32m     18\u001b[0m c \u001b[38;5;241m=\u001b[39m C()\n\u001b[1;32m---> 19\u001b[0m \u001b[43mc\u001b[49m\u001b[38;5;241;43m.\u001b[39;49m\u001b[43mgreet\u001b[49m\u001b[43m(\u001b[49m\u001b[43m)\u001b[49m\n",
      "Cell \u001b[1;32mIn[1], line 5\u001b[0m, in \u001b[0;36mA.greet\u001b[1;34m(self)\u001b[0m\n\u001b[0;32m      4\u001b[0m \u001b[38;5;28;01mdef\u001b[39;00m \u001b[38;5;21mgreet\u001b[39m(\u001b[38;5;28mself\u001b[39m):\n\u001b[1;32m----> 5\u001b[0m     \u001b[38;5;28mprint\u001b[39m(\u001b[38;5;124mf\u001b[39m\u001b[38;5;124m\"\u001b[39m\u001b[38;5;124mCalling \u001b[39m\u001b[38;5;132;01m{\u001b[39;00m\u001b[38;5;28mself\u001b[39m\u001b[38;5;241m.\u001b[39mname\u001b[38;5;132;01m}\u001b[39;00m\u001b[38;5;124m.greet from \u001b[39m\u001b[38;5;132;01m{\u001b[39;00m\u001b[38;5;28mself\u001b[39m\u001b[38;5;241m.\u001b[39m\u001b[38;5;18m__class__\u001b[39m\u001b[38;5;132;01m}\u001b[39;00m\u001b[38;5;124m\"\u001b[39m)\n",
      "\u001b[1;31mAttributeError\u001b[0m: 'C' object has no attribute 'name'"
     ]
    }
   ],
   "source": [
    "class A(object): \n",
    "    def __init__(self):\n",
    "        self.name = \"A\"\n",
    "    def greet(self):\n",
    "        print(f\"Calling {self.name}.greet from {self.__class__}\")\n",
    "        \n",
    "class B(A): \n",
    "    def __init__(self):\n",
    "        pass\n",
    "class C(B): \n",
    "    def __init__(self):\n",
    "        pass\n",
    "\n",
    "print(A.__mro__)\n",
    "print(B.__mro__)\n",
    "print(C.__mro__)\n",
    "\n",
    "c = C()\n",
    "c.greet()"
   ]
  },
  {
   "cell_type": "markdown",
   "id": "117393ca-26f1-4f4f-85aa-e5b2c6f57f0e",
   "metadata": {},
   "source": [
    "##### Linear inheritance"
   ]
  },
  {
   "cell_type": "code",
   "execution_count": null,
   "id": "74e23ae1-dfc5-4534-8a94-ffad848b0ff1",
   "metadata": {},
   "outputs": [],
   "source": [
    "class A(object): \n",
    "    def __init__(self):\n",
    "        self.name = \"A\"\n",
    "    def greet(self):\n",
    "        print(f\"Calling {self.name}.greet from {self.__class__}\")\n",
    "        \n",
    "class B(A): \n",
    "    def __init__(self):\n",
    "        super().__init__()\n",
    "class C(B): \n",
    "    def __init__(self):\n",
    "        super().__init__()\n",
    "\n",
    "print(A.__mro__)\n",
    "print(B.__mro__)\n",
    "print(C.__mro__)\n",
    "\n",
    "c = C()\n",
    "c.greet()"
   ]
  },
  {
   "cell_type": "markdown",
   "id": "dc7e7fdf-198c-4b65-a8b9-67977cf126ac",
   "metadata": {},
   "source": [
    "##### Multiple inheritance"
   ]
  },
  {
   "cell_type": "code",
   "execution_count": 2,
   "id": "b23b919c-8230-47ee-8f1a-67f5aef44512",
   "metadata": {},
   "outputs": [
    {
     "name": "stdout",
     "output_type": "stream",
     "text": [
      "(<class '__main__.B12'>, <class '__main__.A1'>, <class '__main__.A2'>, <class 'object'>)\n",
      "(<class '__main__.B21'>, <class '__main__.A2'>, <class '__main__.A1'>, <class 'object'>)\n",
      "Calling A1.greet from <class '__main__.B12'>\n",
      "Calling A2.greet from <class '__main__.B21'>\n"
     ]
    }
   ],
   "source": [
    "class A1(object): \n",
    "    def __init__(self):\n",
    "        self.name = \"A1\"\n",
    "    def greet(self):\n",
    "        print(f\"Calling {self.name}.greet from {self.__class__}\")\n",
    "class A2(object): \n",
    "    def __init__(self):\n",
    "        self.name = \"A2\"\n",
    "class B12(A1, A2): \n",
    "    def __init__(self):\n",
    "        super().__init__()\n",
    "class B21(A2, A1): \n",
    "    def __init__(self):\n",
    "        super().__init__()\n",
    "\n",
    "print(B12.__mro__)\n",
    "print(B21.__mro__)\n",
    "# Notice that in the second case the attribute 'name' belonging to A2\n",
    "# gets initialized before the one belonging to A1\n",
    "b12 = B12()\n",
    "b12.greet()\n",
    "b21 = B21()\n",
    "b21.greet()"
   ]
  },
  {
   "cell_type": "markdown",
   "id": "d0585dc4-1d24-4070-9be2-4e24098ef3a2",
   "metadata": {},
   "source": [
    "##### Diamond inheritance"
   ]
  },
  {
   "cell_type": "code",
   "execution_count": 3,
   "id": "3d3d4993-7cd4-48ed-a2de-ff44a9671b30",
   "metadata": {},
   "outputs": [
    {
     "name": "stdout",
     "output_type": "stream",
     "text": [
      "(<class '__main__.C12'>, <class '__main__.B1'>, <class '__main__.B2'>, <class '__main__.A'>, <class 'object'>)\n",
      "(<class '__main__.C21'>, <class '__main__.B2'>, <class '__main__.B1'>, <class '__main__.A'>, <class 'object'>)\n",
      "Start at C12, pass through B1, pass through B2, end at A with name:A.\n",
      "Start at C21, pass through B2, pass through B1, end at A with name:A.\n"
     ]
    }
   ],
   "source": [
    "class A(object): \n",
    "    def __init__(self):\n",
    "        self.name = \"A\"\n",
    "        print(f\"end at {self.name}\", end=\" \")\n",
    "class B1(A): \n",
    "    def __init__(self):\n",
    "        self.name = \"B1\"\n",
    "        print(f\"pass through {self.name},\", end=\" \")\n",
    "        super().__init__()\n",
    "class B2(A): \n",
    "    def __init__(self):\n",
    "        self.name = \"B2\"\n",
    "        print(f\"pass through {self.name},\", end=\" \")\n",
    "        super().__init__()\n",
    "class C12(B1, B2): \n",
    "    def __init__(self):\n",
    "        self.name = \"C12\"\n",
    "        print(f\"Start at {self.name},\", end=\" \")\n",
    "        super().__init__()\n",
    "        print(f\"with name:{self.name}\", end=\".\\n\")\n",
    "class C21(B2, B1): \n",
    "    def __init__(self):\n",
    "        self.name = \"C21\"\n",
    "        print(f\"Start at {self.name},\", end=\" \")\n",
    "        super().__init__()\n",
    "        print(f\"with name:{self.name}\", end=\".\\n\")\n",
    "        \n",
    "print(C12.__mro__)\n",
    "print(C21.__mro__)\n",
    "\n",
    "c12 = C12()\n",
    "c21 = C21()"
   ]
  },
  {
   "cell_type": "code",
   "execution_count": null,
   "id": "38b7552a-e450-41ba-9612-5392b830b632",
   "metadata": {},
   "outputs": [],
   "source": []
  }
 ],
 "metadata": {
  "kernelspec": {
   "display_name": "Python 3 (ipykernel)",
   "language": "python",
   "name": "python3"
  },
  "language_info": {
   "codemirror_mode": {
    "name": "ipython",
    "version": 3
   },
   "file_extension": ".py",
   "mimetype": "text/x-python",
   "name": "python",
   "nbconvert_exporter": "python",
   "pygments_lexer": "ipython3",
   "version": "3.8.16"
  }
 },
 "nbformat": 4,
 "nbformat_minor": 5
}
