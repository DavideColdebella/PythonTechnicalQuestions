{
 "cells": [
  {
   "cell_type": "code",
   "execution_count": 4,
   "id": "b39f2456-177e-471a-8725-da664a577d84",
   "metadata": {},
   "outputs": [],
   "source": [
    "def f_ext(h):\n",
    "    def f_int():\n",
    "        print(h)\n",
    "        \n",
    "    return f_int"
   ]
  },
  {
   "cell_type": "code",
   "execution_count": 9,
   "id": "40d59746-166a-402f-9038-5b8bf1168ccc",
   "metadata": {},
   "outputs": [
    {
     "name": "stdout",
     "output_type": "stream",
     "text": [
      "10\n",
      "5\n"
     ]
    }
   ],
   "source": [
    "f1 = f_ext(10)\n",
    "f2 = f_ext(5)\n",
    "\n",
    "f1()\n",
    "f2()"
   ]
  },
  {
   "cell_type": "code",
   "execution_count": null,
   "id": "5cc64470-d803-408a-8501-cf936a25d527",
   "metadata": {},
   "outputs": [],
   "source": [
    "\n"
   ]
  }
 ],
 "metadata": {
  "kernelspec": {
   "display_name": "Python 3 (ipykernel)",
   "language": "python",
   "name": "python3"
  },
  "language_info": {
   "codemirror_mode": {
    "name": "ipython",
    "version": 3
   },
   "file_extension": ".py",
   "mimetype": "text/x-python",
   "name": "python",
   "nbconvert_exporter": "python",
   "pygments_lexer": "ipython3",
   "version": "3.8.16"
  }
 },
 "nbformat": 4,
 "nbformat_minor": 5
}
